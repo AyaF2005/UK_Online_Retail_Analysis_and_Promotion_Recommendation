{
 "cells": [
  {
   "cell_type": "code",
   "execution_count": 24,
   "id": "b0d5ff87-f4e9-4a9a-aaad-710360ead938",
   "metadata": {},
   "outputs": [],
   "source": [
    "import pandas as pd"
   ]
  },
  {
   "cell_type": "code",
   "execution_count": 25,
   "id": "8573219b-52b6-4bf0-ad22-b1fb2ca37487",
   "metadata": {},
   "outputs": [],
   "source": [
    "import numpy as np "
   ]
  },
  {
   "cell_type": "code",
   "execution_count": 26,
   "id": "d2c55f5b-e803-43fc-b034-52ee3971f491",
   "metadata": {},
   "outputs": [
    {
     "data": {
      "text/html": [
       "<div>\n",
       "<style scoped>\n",
       "    .dataframe tbody tr th:only-of-type {\n",
       "        vertical-align: middle;\n",
       "    }\n",
       "\n",
       "    .dataframe tbody tr th {\n",
       "        vertical-align: top;\n",
       "    }\n",
       "\n",
       "    .dataframe thead th {\n",
       "        text-align: right;\n",
       "    }\n",
       "</style>\n",
       "<table border=\"1\" class=\"dataframe\">\n",
       "  <thead>\n",
       "    <tr style=\"text-align: right;\">\n",
       "      <th></th>\n",
       "      <th>Invoice</th>\n",
       "      <th>StockCode</th>\n",
       "      <th>Description</th>\n",
       "      <th>Quantity</th>\n",
       "      <th>InvoiceDate</th>\n",
       "      <th>Price</th>\n",
       "      <th>Customer ID</th>\n",
       "      <th>Country</th>\n",
       "    </tr>\n",
       "  </thead>\n",
       "  <tbody>\n",
       "    <tr>\n",
       "      <th>0</th>\n",
       "      <td>489434</td>\n",
       "      <td>85048</td>\n",
       "      <td>15CM CHRISTMAS GLASS BALL 20 LIGHTS</td>\n",
       "      <td>12</td>\n",
       "      <td>2009-12-01 07:45:00</td>\n",
       "      <td>6.95</td>\n",
       "      <td>13085.0</td>\n",
       "      <td>United Kingdom</td>\n",
       "    </tr>\n",
       "    <tr>\n",
       "      <th>1</th>\n",
       "      <td>489434</td>\n",
       "      <td>79323P</td>\n",
       "      <td>PINK CHERRY LIGHTS</td>\n",
       "      <td>12</td>\n",
       "      <td>2009-12-01 07:45:00</td>\n",
       "      <td>6.75</td>\n",
       "      <td>13085.0</td>\n",
       "      <td>United Kingdom</td>\n",
       "    </tr>\n",
       "    <tr>\n",
       "      <th>2</th>\n",
       "      <td>489434</td>\n",
       "      <td>79323W</td>\n",
       "      <td>WHITE CHERRY LIGHTS</td>\n",
       "      <td>12</td>\n",
       "      <td>2009-12-01 07:45:00</td>\n",
       "      <td>6.75</td>\n",
       "      <td>13085.0</td>\n",
       "      <td>United Kingdom</td>\n",
       "    </tr>\n",
       "    <tr>\n",
       "      <th>3</th>\n",
       "      <td>489434</td>\n",
       "      <td>22041</td>\n",
       "      <td>RECORD FRAME 7\" SINGLE SIZE</td>\n",
       "      <td>48</td>\n",
       "      <td>2009-12-01 07:45:00</td>\n",
       "      <td>2.10</td>\n",
       "      <td>13085.0</td>\n",
       "      <td>United Kingdom</td>\n",
       "    </tr>\n",
       "    <tr>\n",
       "      <th>4</th>\n",
       "      <td>489434</td>\n",
       "      <td>21232</td>\n",
       "      <td>STRAWBERRY CERAMIC TRINKET BOX</td>\n",
       "      <td>24</td>\n",
       "      <td>2009-12-01 07:45:00</td>\n",
       "      <td>1.25</td>\n",
       "      <td>13085.0</td>\n",
       "      <td>United Kingdom</td>\n",
       "    </tr>\n",
       "    <tr>\n",
       "      <th>...</th>\n",
       "      <td>...</td>\n",
       "      <td>...</td>\n",
       "      <td>...</td>\n",
       "      <td>...</td>\n",
       "      <td>...</td>\n",
       "      <td>...</td>\n",
       "      <td>...</td>\n",
       "      <td>...</td>\n",
       "    </tr>\n",
       "    <tr>\n",
       "      <th>1067366</th>\n",
       "      <td>581587</td>\n",
       "      <td>22899</td>\n",
       "      <td>CHILDREN'S APRON DOLLY GIRL</td>\n",
       "      <td>6</td>\n",
       "      <td>2011-12-09 12:50:00</td>\n",
       "      <td>2.10</td>\n",
       "      <td>12680.0</td>\n",
       "      <td>France</td>\n",
       "    </tr>\n",
       "    <tr>\n",
       "      <th>1067367</th>\n",
       "      <td>581587</td>\n",
       "      <td>23254</td>\n",
       "      <td>CHILDRENS CUTLERY DOLLY GIRL</td>\n",
       "      <td>4</td>\n",
       "      <td>2011-12-09 12:50:00</td>\n",
       "      <td>4.15</td>\n",
       "      <td>12680.0</td>\n",
       "      <td>France</td>\n",
       "    </tr>\n",
       "    <tr>\n",
       "      <th>1067368</th>\n",
       "      <td>581587</td>\n",
       "      <td>23255</td>\n",
       "      <td>CHILDRENS CUTLERY CIRCUS PARADE</td>\n",
       "      <td>4</td>\n",
       "      <td>2011-12-09 12:50:00</td>\n",
       "      <td>4.15</td>\n",
       "      <td>12680.0</td>\n",
       "      <td>France</td>\n",
       "    </tr>\n",
       "    <tr>\n",
       "      <th>1067369</th>\n",
       "      <td>581587</td>\n",
       "      <td>22138</td>\n",
       "      <td>BAKING SET 9 PIECE RETROSPOT</td>\n",
       "      <td>3</td>\n",
       "      <td>2011-12-09 12:50:00</td>\n",
       "      <td>4.95</td>\n",
       "      <td>12680.0</td>\n",
       "      <td>France</td>\n",
       "    </tr>\n",
       "    <tr>\n",
       "      <th>1067370</th>\n",
       "      <td>581587</td>\n",
       "      <td>POST</td>\n",
       "      <td>POSTAGE</td>\n",
       "      <td>1</td>\n",
       "      <td>2011-12-09 12:50:00</td>\n",
       "      <td>18.00</td>\n",
       "      <td>12680.0</td>\n",
       "      <td>France</td>\n",
       "    </tr>\n",
       "  </tbody>\n",
       "</table>\n",
       "<p>1067371 rows × 8 columns</p>\n",
       "</div>"
      ],
      "text/plain": [
       "        Invoice StockCode                          Description  Quantity  \\\n",
       "0        489434     85048  15CM CHRISTMAS GLASS BALL 20 LIGHTS        12   \n",
       "1        489434    79323P                   PINK CHERRY LIGHTS        12   \n",
       "2        489434    79323W                  WHITE CHERRY LIGHTS        12   \n",
       "3        489434     22041         RECORD FRAME 7\" SINGLE SIZE         48   \n",
       "4        489434     21232       STRAWBERRY CERAMIC TRINKET BOX        24   \n",
       "...         ...       ...                                  ...       ...   \n",
       "1067366  581587     22899         CHILDREN'S APRON DOLLY GIRL          6   \n",
       "1067367  581587     23254        CHILDRENS CUTLERY DOLLY GIRL          4   \n",
       "1067368  581587     23255      CHILDRENS CUTLERY CIRCUS PARADE         4   \n",
       "1067369  581587     22138        BAKING SET 9 PIECE RETROSPOT          3   \n",
       "1067370  581587      POST                              POSTAGE         1   \n",
       "\n",
       "                 InvoiceDate  Price  Customer ID         Country  \n",
       "0        2009-12-01 07:45:00   6.95      13085.0  United Kingdom  \n",
       "1        2009-12-01 07:45:00   6.75      13085.0  United Kingdom  \n",
       "2        2009-12-01 07:45:00   6.75      13085.0  United Kingdom  \n",
       "3        2009-12-01 07:45:00   2.10      13085.0  United Kingdom  \n",
       "4        2009-12-01 07:45:00   1.25      13085.0  United Kingdom  \n",
       "...                      ...    ...          ...             ...  \n",
       "1067366  2011-12-09 12:50:00   2.10      12680.0          France  \n",
       "1067367  2011-12-09 12:50:00   4.15      12680.0          France  \n",
       "1067368  2011-12-09 12:50:00   4.15      12680.0          France  \n",
       "1067369  2011-12-09 12:50:00   4.95      12680.0          France  \n",
       "1067370  2011-12-09 12:50:00  18.00      12680.0          France  \n",
       "\n",
       "[1067371 rows x 8 columns]"
      ]
     },
     "execution_count": 26,
     "metadata": {},
     "output_type": "execute_result"
    }
   ],
   "source": [
    "#1.Load the dataset into your notebook\n",
    "df = pd.read_csv(\"C:/Users/fares/bootCamp_py/online_retail_II.csv\")\n",
    "df "
   ]
  },
  {
   "cell_type": "code",
   "execution_count": 27,
   "id": "383fb8d1-8df5-45f2-82f6-95bc38af7dd6",
   "metadata": {},
   "outputs": [
    {
     "name": "stdout",
     "output_type": "stream",
     "text": [
      "<class 'pandas.core.frame.DataFrame'>\n",
      "RangeIndex: 1067371 entries, 0 to 1067370\n",
      "Data columns (total 8 columns):\n",
      " #   Column       Non-Null Count    Dtype  \n",
      "---  ------       --------------    -----  \n",
      " 0   Invoice      1067371 non-null  object \n",
      " 1   StockCode    1067371 non-null  object \n",
      " 2   Description  1062989 non-null  object \n",
      " 3   Quantity     1067371 non-null  int64  \n",
      " 4   InvoiceDate  1067371 non-null  object \n",
      " 5   Price        1067371 non-null  float64\n",
      " 6   Customer ID  824364 non-null   float64\n",
      " 7   Country      1067371 non-null  object \n",
      "dtypes: float64(2), int64(1), object(5)\n",
      "memory usage: 65.1+ MB\n"
     ]
    }
   ],
   "source": [
    "df.info()"
   ]
  },
  {
   "cell_type": "code",
   "execution_count": 28,
   "id": "7a55caa5-ce85-41d8-a972-4148256af1d2",
   "metadata": {},
   "outputs": [],
   "source": [
    "#2.Randomly select 200k row from the dataset.\n",
    "dfRandomSelect = df.sample(n=200000)"
   ]
  },
  {
   "cell_type": "code",
   "execution_count": 29,
   "id": "2d463a88-588c-4c7b-a0c6-415f9d07d3f6",
   "metadata": {},
   "outputs": [
    {
     "name": "stdout",
     "output_type": "stream",
     "text": [
      "       Invoice StockCode                        Description  Quantity  \\\n",
      "570176  540238     22222          CAKE PLATE LOVEBIRD WHITE         1   \n",
      "730856  554808     22896              PEG BAG APPLES DESIGN         1   \n",
      "282424  516892     21531       RED RETROSPOT SUGAR JAM BOWL         1   \n",
      "590425  541684     72819       CUPID DESIGN SCENTED CANDLES        13   \n",
      "582115  541105     22386            JUMBO BAG PINK POLKADOT       200   \n",
      "...        ...       ...                                ...       ...   \n",
      "149194  503584     22021        BLUE FELT EASTER EGG BASKET         1   \n",
      "843370  564818     23197  SKETCHBOOK MAGNETIC SHOPPING LIST         1   \n",
      "767432  558262     22382         LUNCH BAG SPACEBOY DESIGN        100   \n",
      "195188  508060     22412    METAL SIGN NEIGHBOURHOOD WITCH          1   \n",
      "776786  559052     22712                   CARD DOLLY GIRL          2   \n",
      "\n",
      "                InvoiceDate  Price  Customer ID         Country  \n",
      "570176  2011-01-05 14:44:00   4.21          NaN  United Kingdom  \n",
      "730856  2011-05-26 13:01:00   2.55      17059.0  United Kingdom  \n",
      "282424  2010-07-23 15:09:00   5.06          NaN  United Kingdom  \n",
      "590425  2011-01-20 15:22:00   2.55      15498.0  United Kingdom  \n",
      "582115  2011-01-13 14:34:00   1.65      16029.0  United Kingdom  \n",
      "...                     ...    ...          ...             ...  \n",
      "149194  2010-04-01 16:55:00   1.65      17961.0  United Kingdom  \n",
      "843370  2011-08-30 12:10:00   3.29          NaN  United Kingdom  \n",
      "767432  2011-06-28 08:45:00   1.45      14646.0     Netherlands  \n",
      "195188  2010-05-12 13:43:00   2.10      13052.0  United Kingdom  \n",
      "776786  2011-07-05 16:53:00   0.83          NaN  United Kingdom  \n",
      "\n",
      "[200000 rows x 8 columns]\n"
     ]
    }
   ],
   "source": [
    "#2.result: \n",
    "print(dfRandomSelect)"
   ]
  },
  {
   "cell_type": "markdown",
   "id": "3288c570-13d0-4587-b7eb-25f819590150",
   "metadata": {},
   "source": [
    "df['Total_Sales'] = df['Price'] * ['Quantity']"
   ]
  },
  {
   "cell_type": "code",
   "execution_count": 30,
   "id": "20829a2f-1518-493a-82a7-65e9fdcd29e0",
   "metadata": {},
   "outputs": [],
   "source": [
    "#3.Determine the total sales per invoice and identify the top 5 invoices.\n",
    "df['Total_Sales'] = df['Price'] * df['Quantity'].iloc[:]\n",
    "Total_Sales_Per_invoice = df.groupby('Invoice')['Total_Sales'].sum().sort_values(ascending=False)"
   ]
  },
  {
   "cell_type": "code",
   "execution_count": 31,
   "id": "8c3cbf21-d19b-4b93-abc7-a79ebc764637",
   "metadata": {},
   "outputs": [
    {
     "name": "stdout",
     "output_type": "stream",
     "text": [
      "Invoice\n",
      "581483    168469.60\n",
      "541431     77183.60\n",
      "574941     52940.94\n",
      "576365     50653.91\n",
      "533027     49844.99\n",
      "Name: Total_Sales, dtype: float64\n"
     ]
    }
   ],
   "source": [
    "#3.result\n",
    "print(Total_Sales_Per_invoice.head(5))"
   ]
  },
  {
   "cell_type": "code",
   "execution_count": 32,
   "id": "a4182e0b-1bb3-4815-b62e-7d4c027ccfff",
   "metadata": {},
   "outputs": [
    {
     "name": "stdout",
     "output_type": "stream",
     "text": [
      "Customer ID\n",
      "18102.0    598215.22\n",
      "14646.0    523342.07\n",
      "14156.0    296564.69\n",
      "14911.0    270248.53\n",
      "17450.0    233579.39\n",
      "Name: Total_Sales, dtype: float64\n"
     ]
    }
   ],
   "source": [
    "#4.Compute the total sales per customer and list the top 5 customers.\n",
    "total_sales_per_customer = df.groupby('Customer ID')['Total_Sales'].sum().sort_values(ascending=False)\n",
    "#4.result:\n",
    "print(total_sales_per_customer.head(5))"
   ]
  },
  {
   "cell_type": "code",
   "execution_count": 33,
   "id": "ed150595-384b-4988-9d98-948e5ba3a003",
   "metadata": {},
   "outputs": [
    {
     "name": "stdout",
     "output_type": "stream",
     "text": [
      "Description\n",
      "WORLD WAR 2 GLIDERS ASSTD DESIGNS     108545\n",
      "WHITE HANGING HEART T-LIGHT HOLDER     93050\n",
      "ASSORTED COLOUR BIRD ORNAMENT          81306\n",
      "JUMBO BAG RED RETROSPOT                78090\n",
      "BROCADE RING PURSE                     70700\n",
      "Name: Quantity, dtype: int64\n"
     ]
    }
   ],
   "source": [
    "#5.Identify the top 5 selling items during this period.\n",
    "selling_items = df.groupby('Description')['Quantity'].sum().sort_values(ascending=False)\n",
    "#5.result:\n",
    "print(selling_items.head(5))"
   ]
  },
  {
   "cell_type": "code",
   "execution_count": 34,
   "id": "0b789c4a-f882-44a3-bb65-dcd82325a851",
   "metadata": {},
   "outputs": [
    {
     "name": "stdout",
     "output_type": "stream",
     "text": [
      "Description\n",
      "WORLD WAR 2 GLIDERS ASSTD DESIGNS     108545\n",
      "WHITE HANGING HEART T-LIGHT HOLDER     93050\n",
      "ASSORTED COLOUR BIRD ORNAMENT          81306\n",
      "JUMBO BAG RED RETROSPOT                78090\n",
      "BROCADE RING PURSE                     70700\n",
      "PACK OF 60 PINK PAISLEY CAKE CASES     56575\n",
      "60 TEATIME FAIRY CAKE CASES            54366\n",
      "SMALL POPCORN HOLDER                   49616\n",
      "PACK OF 72 RETROSPOT CAKE CASES        49344\n",
      "PACK OF 72 RETRO SPOT CAKE CASES       46106\n",
      "Name: Quantity, dtype: int64\n"
     ]
    }
   ],
   "source": [
    "#6.the top 10 best sellers calculation\n",
    "top_10_best_sellers = selling_items.head(10)\n",
    "print(top_10_best_sellers)"
   ]
  },
  {
   "cell_type": "code",
   "execution_count": 35,
   "id": "de8cf65f-fb7f-45bf-8b42-62bb876e7345",
   "metadata": {},
   "outputs": [
    {
     "name": "stdout",
     "output_type": "stream",
     "text": [
      "Description\n",
      "Zebra invcing error             -9000\n",
      "Printing smudges/thrown away    -9058\n",
      "Given away                     -10200\n",
      "check                          -12112\n",
      "ebay sales                     -13630\n",
      "Unsaleable, destroyed.         -15644\n",
      "missing                        -16467\n",
      "printing smudges/thrown away   -19200\n",
      "given away                     -20000\n",
      "?                              -26757\n",
      "Name: Quantity, dtype: int64\n"
     ]
    }
   ],
   "source": [
    "#6.from the bottom 10 sellers calculation\n",
    "bottom_10_sellers = selling_items.tail(10)\n",
    "print(bottom_10_sellers)"
   ]
  },
  {
   "cell_type": "code",
   "execution_count": 36,
   "id": "5d3f0e1c-7505-4125-ac7b-5a828abcb250",
   "metadata": {
    "scrolled": true
   },
   "outputs": [],
   "source": [
    "import random"
   ]
  },
  {
   "cell_type": "code",
   "execution_count": 49,
   "id": "b69d881c-a06d-49dc-8be2-e92776ae73e2",
   "metadata": {},
   "outputs": [
    {
     "name": "stdout",
     "output_type": "stream",
     "text": [
      "[('BROCADE RING PURSE ', 'missing'), ('JUMBO BAG RED RETROSPOT', 'Unsaleable, destroyed.'), ('WORLD WAR 2 GLIDERS ASSTD DESIGNS', 'Printing smudges/thrown away'), ('PACK OF 72 RETROSPOT CAKE CASES', 'given away'), ('ASSORTED COLOUR BIRD ORNAMENT', '?'), ('SMALL POPCORN HOLDER', 'Zebra invcing error'), ('JUMBO BAG RED RETROSPOT', 'Printing smudges/thrown away'), ('PACK OF 60 PINK PAISLEY CAKE CASES', 'Zebra invcing error'), ('ASSORTED COLOUR BIRD ORNAMENT', 'Printing smudges/thrown away'), ('ASSORTED COLOUR BIRD ORNAMENT', 'given away')]\n"
     ]
    }
   ],
   "source": [
    "#6. recommend 10 pairs of items to kickstart this campaign.calculation func \n",
    "def pair_of_two_different_items(top, bottom):\n",
    "    pairs = []\n",
    "\n",
    "    for top_item in top.index:\n",
    "        for bottom_item in bottom.index:\n",
    "            if top_item != bottom_item:\n",
    "                pairs.append((top_item, bottom_item))\n",
    "    return pairs\n",
    "\n",
    "all_pairs = pair_of_two_different_items(top_10_best_sellers, bottom_10_sellers)\n",
    "recommended_10_pairs_of_items = random.sample(all_pairs, 10)\n",
    "#6.final result:\n",
    "print(recommended_10_pairs_of_items)"
   ]
  }
 ],
 "metadata": {
  "kernelspec": {
   "display_name": "Python 3 (ipykernel)",
   "language": "python",
   "name": "python3"
  },
  "language_info": {
   "codemirror_mode": {
    "name": "ipython",
    "version": 3
   },
   "file_extension": ".py",
   "mimetype": "text/x-python",
   "name": "python",
   "nbconvert_exporter": "python",
   "pygments_lexer": "ipython3",
   "version": "3.11.4"
  }
 },
 "nbformat": 4,
 "nbformat_minor": 5
}
